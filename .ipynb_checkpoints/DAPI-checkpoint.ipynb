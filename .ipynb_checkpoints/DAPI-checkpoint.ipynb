{
 "cells": [
  {
   "cell_type": "code",
   "execution_count": 3,
   "metadata": {},
   "outputs": [],
   "source": [
    "import pandas as pd\n",
    "import numpy as np"
   ]
  },
  {
   "cell_type": "code",
   "execution_count": 66,
   "metadata": {},
   "outputs": [],
   "source": [
    "def get_cols(df: pd.DataFrame, cols) -> pd.DataFrame:\n",
    "    \"\"\"\n",
    "    Returns a dataframe with only the specified column(s).\n",
    "    \n",
    "    Parameters:\n",
    "        df (DataFrame): The original dataframe.\n",
    "        cols: The columns to include in the returned DataFrame.\n",
    "    Returns:\n",
    "        df (DataFrame): A subset with only the specified columns.\n",
    "    \"\"\"\n",
    "    if (type(cols) is str):\n",
    "        cols = [cols]\n",
    "    elif (type(cols) is int):\n",
    "        cols = [cols]\n",
    "    if (type(cols) is not list):\n",
    "        raise TypeError(\"Specified column(s) need to be of type str or list\")\n",
    "    return df[cols]"
   ]
  },
  {
   "cell_type": "code",
   "execution_count": 89,
   "metadata": {},
   "outputs": [],
   "source": [
    "def get_rows_by_index(df: pd.DataFrame, rows: list) -> pd.DataFrame:\n",
    "    \"\"\"\n",
    "    Returns a dataframe with only the specified row(s) by index.\n",
    "    \n",
    "    Parameters:\n",
    "        df (DataFrame): The original dataframe.\n",
    "        rows (list): The indices to include in the returned DataFrame.\n",
    "    Returns:\n",
    "        df (DataFrame): A subset with only the specified rows.\n",
    "    \"\"\"\n",
    "    if (type(rows) is str):\n",
    "        raise TypeError(\"Specified indices need to be of type int or list\")\n",
    "    if (type(rows) is int):\n",
    "        return df.iloc[[rows]]\n",
    "    elif (type(rows) is list):\n",
    "        return df.iloc[rows]\n",
    "        "
   ]
  },
  {
   "cell_type": "code",
   "execution_count": 90,
   "metadata": {},
   "outputs": [],
   "source": [
    "a = [1, 2, \"ok\"]\n",
    "if (type(a) is int):\n",
    "    print(\"list of strings\")"
   ]
  },
  {
   "cell_type": "code",
   "execution_count": 88,
   "metadata": {},
   "outputs": [
    {
     "name": "stdout",
     "output_type": "stream",
     "text": [
      "   id  current_x  current_y  age  state\n",
      "0   0   0.402822   0.271713   36      0\n",
      "1   1   0.451669   0.907801   26      0\n",
      "2   2   0.316535   0.311614   39      0\n",
      "3   3   0.640172   0.455781   39      0\n",
      "4   4   0.945656   0.776123   44      0\n",
      "5   5   0.403515   0.341960   49      0\n",
      "6   6   0.216512   0.379044   33      0\n",
      "7   7   0.484600   0.152366   46      0\n",
      "8   8   0.683831   0.729695   53      0\n",
      "9   9   0.522366   0.391046   34      0\n",
      "None\n"
     ]
    }
   ],
   "source": [
    "my_df = pd.DataFrame()\n",
    "my_df[\"id\"] = pd.Series([x for x in range(10)])\n",
    "my_df[\"current_x\"] = np.random.uniform(0, 1, 10)\n",
    "my_df[\"current_y\"] = np.random.uniform(0, 1, 10)\n",
    "my_df[\"age\"] = np.random.normal(45, 10, size = 10)\n",
    "my_df[\"age\"] = my_df[\"age\"].astype(int)\n",
    "my_df[\"state\"] = pd.Series(0 for x in range(10))\n",
    "print(my_df)\n",
    "#print(get_cols(my_df, 2))\n",
    "print(get_rows_by_index(my_df, ))"
   ]
  },
  {
   "cell_type": "code",
   "execution_count": null,
   "metadata": {},
   "outputs": [],
   "source": []
  }
 ],
 "metadata": {
  "kernelspec": {
   "display_name": "Python 3",
   "language": "python",
   "name": "python3"
  },
  "language_info": {
   "codemirror_mode": {
    "name": "ipython",
    "version": 3
   },
   "file_extension": ".py",
   "mimetype": "text/x-python",
   "name": "python",
   "nbconvert_exporter": "python",
   "pygments_lexer": "ipython3",
   "version": "3.7.3"
  }
 },
 "nbformat": 4,
 "nbformat_minor": 2
}
