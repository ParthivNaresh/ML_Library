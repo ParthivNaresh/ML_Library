{
 "cells": [
  {
   "cell_type": "code",
   "execution_count": 1,
   "metadata": {},
   "outputs": [],
   "source": [
    "import pandas as pd\n",
    "import numpy as np\n",
    "from pathlib import Path"
   ]
  },
  {
   "cell_type": "code",
   "execution_count": 66,
   "metadata": {},
   "outputs": [],
   "source": [
    "def get_cols(df: pd.DataFrame, cols) -> pd.DataFrame:\n",
    "    \"\"\"\n",
    "    Returns a dataframe with only the specified column(s).\n",
    "    \n",
    "    Parameters:\n",
    "        df (DataFrame): The original dataframe.\n",
    "        cols: The columns to include in the returned DataFrame.\n",
    "    Returns:\n",
    "        df (DataFrame): A subset with only the specified columns.\n",
    "    \"\"\"\n",
    "    if (type(cols) is str):\n",
    "        cols = [cols]\n",
    "    elif (type(cols) is int):\n",
    "        cols = [cols]\n",
    "    if (type(cols) is not list):\n",
    "        raise TypeError(\"Specified column(s) need to be of type str or list\")\n",
    "    return df[cols]"
   ]
  },
  {
   "cell_type": "code",
   "execution_count": 99,
   "metadata": {},
   "outputs": [],
   "source": [
    "def get_rows_by_index(df: pd.DataFrame, rows) -> pd.DataFrame:\n",
    "    \"\"\"\n",
    "    Returns a dataframe with only the specified row(s) by index.\n",
    "    \n",
    "    Parameters:\n",
    "        df (DataFrame): The original dataframe.\n",
    "        rows (list): The indices to include in the returned DataFrame.\n",
    "    Returns:\n",
    "        df (DataFrame): A subset with only the specified rows.\n",
    "    \"\"\"\n",
    "    if (type(rows) is str):\n",
    "        raise TypeError(\"Specified indices need to be of type int or list\")\n",
    "    if (type(rows) is int):\n",
    "        return df.iloc[[rows]]\n",
    "    elif (type(rows) is list):\n",
    "        return df.iloc[rows]\n",
    "        "
   ]
  },
  {
   "cell_type": "code",
   "execution_count": null,
   "metadata": {},
   "outputs": [],
   "source": [
    "def get_rows_by_rule(df: pd.DataFrame, ) -> pd.DataFrame:\n",
    "    "
   ]
  },
  {
   "cell_type": "code",
   "execution_count": 90,
   "metadata": {},
   "outputs": [],
   "source": [
    "a = [1, 2, \"ok\"]\n",
    "if (type(a) is int):\n",
    "    print(\"list of strings\")"
   ]
  },
  {
   "cell_type": "code",
   "execution_count": null,
   "metadata": {},
   "outputs": [],
   "source": [
    "my_df = pd.DataFrame()\n",
    "my_df[\"id\"] = pd.Series([x for x in range(10)])\n",
    "my_df[\"current_x\"] = np.random.uniform(0, 1, 10)\n",
    "my_df[\"current_y\"] = np.random.uniform(0, 1, 10)\n",
    "my_df[\"age\"] = np.random.normal(45, 10, size = 10)\n",
    "my_df[\"age\"] = my_df[\"age\"].astype(int)\n",
    "my_df[\"state\"] = pd.Series(0 for x in range(10))\n",
    "print(my_df)\n",
    "#print(get_cols(my_df, 2))\n",
    "print(get_rows_by_index(my_df, [2,4]))"
   ]
  },
  {
   "cell_type": "code",
   "execution_count": null,
   "metadata": {},
   "outputs": [],
   "source": []
  },
  {
   "cell_type": "code",
   "execution_count": 23,
   "metadata": {},
   "outputs": [
    {
     "name": "stdout",
     "output_type": "stream",
     "text": [
      "    id      x      y   age  state\n",
      "0    1  0.234  0.374    45    NaN\n",
      "1    2  0.521  0.789    76    3.0\n",
      "2    3  0.111  0.923    52    2.0\n",
      "3    4  0.633  0.284    12    3.0\n",
      "4    5  0.789  0.773     9    4.0\n",
      "5    6  0.923  0.445    98    5.0\n",
      "6    7  0.284  0.481    33    1.0\n",
      "7    8  0.773  0.672    77    2.0\n",
      "8    9  0.288  0.056    55    3.0\n",
      "9   10  0.888  0.182  None    0.0\n",
      "10  11  0.921  0.886    34    0.0\n",
      "11  12  0.765  0.432    86    3.0\n",
      "12  13  0.567  0.432    92    4.0\n",
      "13  14  0.733    NaN     3    2.0\n",
      "14  15  0.012  0.882    14    5.0\n",
      "15  16  0.190  0.421    52    4.0\n",
      "16  17  0.185  0.009    12    2.0\n",
      "17  18  0.453  0.567    43    1.0\n",
      "18  19  0.322  0.733    34    3.0\n",
      "19  20  0.455  0.012    22    5.0\n"
     ]
    }
   ],
   "source": [
    "def csv_to_df(csv_path: str) -> pd.DataFrame:\n",
    "    \"\"\"\n",
    "    Converts a csv to a dataframe and cleans it up.\n",
    "    \n",
    "    Parameters:\n",
    "        csv_path (string): A system path to the csv.\n",
    "    Returns:\n",
    "        new_df (DataFrame): A dataframe.\n",
    "    \"\"\"\n",
    "    if(Path(csv_path).is_file()):\n",
    "        new_df = pd.read_csv(csv_path)\n",
    "        return new_df\n",
    "    else:\n",
    "        print(\"File doesn't exist\")\n",
    "\n",
    "def clean_df(df_to_clean: pd.DataFrame) -> pd.DataFrame:\n",
    "    \"\"\"\n",
    "    Cleans a dataframe.\n",
    "    \n",
    "    Parameters:\n",
    "        df_to_clean (DataFrame): A dataframe to clean.\n",
    "    Returns:\n",
    "        df (DataFrame): A subset with only the specified rows.\n",
    "    \"\"\"\n",
    "\n",
    "csv_file = \"C:/Users/Parthivnaresh/Documents/PracticeFile.csv\"\n",
    "running_df = csv_to_df(csv_file)\n",
    "#clean_df = clean_def(running_df)\n",
    "print(running_df)\n",
    "#print(is_this_file)"
   ]
  },
  {
   "cell_type": "code",
   "execution_count": null,
   "metadata": {},
   "outputs": [],
   "source": []
  },
  {
   "cell_type": "code",
   "execution_count": null,
   "metadata": {},
   "outputs": [],
   "source": []
  }
 ],
 "metadata": {
  "kernelspec": {
   "display_name": "Python 3",
   "language": "python",
   "name": "python3"
  },
  "language_info": {
   "codemirror_mode": {
    "name": "ipython",
    "version": 3
   },
   "file_extension": ".py",
   "mimetype": "text/x-python",
   "name": "python",
   "nbconvert_exporter": "python",
   "pygments_lexer": "ipython3",
   "version": "3.7.3"
  }
 },
 "nbformat": 4,
 "nbformat_minor": 2
}
